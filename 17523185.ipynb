{
 "cells": [
  {
   "cell_type": "code",
   "execution_count": 85,
   "metadata": {},
   "outputs": [
    {
     "data": {
      "text/html": [
       "<table>\n",
       "<thead><tr><th scope=col>x</th><th scope=col>y</th></tr></thead>\n",
       "<tbody>\n",
       "\t<tr><td>50</td><td>40</td></tr>\n",
       "\t<tr><td>51</td><td>46</td></tr>\n",
       "\t<tr><td>52</td><td>44</td></tr>\n",
       "\t<tr><td>53</td><td>55</td></tr>\n",
       "\t<tr><td>54</td><td>49</td></tr>\n",
       "</tbody>\n",
       "</table>\n"
      ],
      "text/latex": [
       "\\begin{tabular}{r|ll}\n",
       " x & y\\\\\n",
       "\\hline\n",
       "\t 50 & 40\\\\\n",
       "\t 51 & 46\\\\\n",
       "\t 52 & 44\\\\\n",
       "\t 53 & 55\\\\\n",
       "\t 54 & 49\\\\\n",
       "\\end{tabular}\n"
      ],
      "text/markdown": [
       "\n",
       "x | y | \n",
       "|---|---|---|---|---|\n",
       "| 50 | 40 | \n",
       "| 51 | 46 | \n",
       "| 52 | 44 | \n",
       "| 53 | 55 | \n",
       "| 54 | 49 | \n",
       "\n",
       "\n"
      ],
      "text/plain": [
       "  x  y \n",
       "1 50 40\n",
       "2 51 46\n",
       "3 52 44\n",
       "4 53 55\n",
       "5 54 49"
      ]
     },
     "metadata": {},
     "output_type": "display_data"
    },
    {
     "data": {
      "text/html": [
       "<table>\n",
       "<thead><tr><th scope=col>xi</th><th scope=col>yi</th></tr></thead>\n",
       "<tbody>\n",
       "\t<tr><td>0   </td><td>1.00</td></tr>\n",
       "\t<tr><td>1   </td><td>2.25</td></tr>\n",
       "\t<tr><td>2   </td><td>3.75</td></tr>\n",
       "\t<tr><td>3   </td><td>4.25</td></tr>\n",
       "\t<tr><td>4   </td><td>5.65</td></tr>\n",
       "</tbody>\n",
       "</table>\n"
      ],
      "text/latex": [
       "\\begin{tabular}{r|ll}\n",
       " xi & yi\\\\\n",
       "\\hline\n",
       "\t 0    & 1.00\\\\\n",
       "\t 1    & 2.25\\\\\n",
       "\t 2    & 3.75\\\\\n",
       "\t 3    & 4.25\\\\\n",
       "\t 4    & 5.65\\\\\n",
       "\\end{tabular}\n"
      ],
      "text/markdown": [
       "\n",
       "xi | yi | \n",
       "|---|---|---|---|---|\n",
       "| 0    | 1.00 | \n",
       "| 1    | 2.25 | \n",
       "| 2    | 3.75 | \n",
       "| 3    | 4.25 | \n",
       "| 4    | 5.65 | \n",
       "\n",
       "\n"
      ],
      "text/plain": [
       "  xi yi  \n",
       "1 0  1.00\n",
       "2 1  2.25\n",
       "3 2  3.75\n",
       "4 3  4.25\n",
       "5 4  5.65"
      ]
     },
     "metadata": {},
     "output_type": "display_data"
    }
   ],
   "source": [
    "library(polynom)\n",
    "dat = read.csv(\"nomor12.csv\")\n",
    "dat\n",
    "dat2 = read.csv(\"nomor35.csv\")\n",
    "dat2"
   ]
  },
  {
   "cell_type": "code",
   "execution_count": 86,
   "metadata": {},
   "outputs": [
    {
     "data": {
      "text/plain": [
       "\n",
       "Call:\n",
       "lm(formula = y ~ x, data = dat)\n",
       "\n",
       "Residuals:\n",
       "   1    2    3    4    5 \n",
       "-1.4  1.9 -2.8  5.5 -3.2 \n",
       "\n",
       "Coefficients:\n",
       "            Estimate Std. Error t value Pr(>|t|)\n",
       "(Intercept)   -93.60      69.73  -1.342    0.272\n",
       "x               2.70       1.34   2.014    0.137\n",
       "\n",
       "Residual standard error: 4.239 on 3 degrees of freedom\n",
       "Multiple R-squared:  0.5749,\tAdjusted R-squared:  0.4332 \n",
       "F-statistic: 4.058 on 1 and 3 DF,  p-value: 0.1374\n"
      ]
     },
     "metadata": {},
     "output_type": "display_data"
    }
   ],
   "source": [
    "#NOMOR 1\n",
    "model <-lm(y ~ x, dat)\n",
    "summary(model)"
   ]
  },
  {
   "cell_type": "markdown",
   "metadata": {},
   "source": [
    "disimpulkan bahwa:\n",
    "\n",
    "$y = -93.6 + 2.7x$"
   ]
  },
  {
   "cell_type": "code",
   "execution_count": 87,
   "metadata": {},
   "outputs": [
    {
     "data": {
      "text/html": [
       "<strong>1:</strong> 54.9"
      ],
      "text/latex": [
       "\\textbf{1:} 54.9"
      ],
      "text/markdown": [
       "**1:** 54.9"
      ],
      "text/plain": [
       "   1 \n",
       "54.9 "
      ]
     },
     "metadata": {},
     "output_type": "display_data"
    }
   ],
   "source": [
    "#NOMOR 2\n",
    "predict(model, data.frame(x = 55))"
   ]
  },
  {
   "cell_type": "code",
   "execution_count": 91,
   "metadata": {},
   "outputs": [
    {
     "data": {
      "text/plain": [
       "1 - 0.07916667*x + 2.19375*x^2 - 0.9958333*x^3 + 0.13125*x^4 "
      ]
     },
     "metadata": {},
     "output_type": "display_data"
    }
   ],
   "source": [
    "#NOMOR 3\n",
    "x3 <- c(0,1,2,3,4)\n",
    "y3 <- c(1.00,2.25,3.75,4.25,5.65)\n",
    "poly.calc(x3,y3)"
   ]
  },
  {
   "cell_type": "code",
   "execution_count": 90,
   "metadata": {},
   "outputs": [
    {
     "data": {
      "text/html": [
       "4.168677441875"
      ],
      "text/latex": [
       "4.168677441875"
      ],
      "text/markdown": [
       "4.168677441875"
      ],
      "text/plain": [
       "[1] 4.168677"
      ]
     },
     "metadata": {},
     "output_type": "display_data"
    }
   ],
   "source": [
    "#NOMOR 4\n",
    "f1 <- function(x){\n",
    "    return (1 - 0.07916667*x + 2.19375*x^2 - 0.9958333*x^3 + 0.13125*x^4)\n",
    "}\n",
    "f1(2.75)"
   ]
  },
  {
   "cell_type": "code",
   "execution_count": 89,
   "metadata": {},
   "outputs": [
    {
     "data": {
      "image/png": "[encoded data removed]",
      "text/plain": [
       "plot without title"
      ]
     },
     "metadata": {},
     "output_type": "display_data"
    }
   ],
   "source": [
    "#NOMOR 5\n",
    "plot(x3,y3)\n",
    "curve(f1, add=TRUE)"
   ]
  },
  {
   "cell_type": "code",
   "execution_count": 55,
   "metadata": {},
   "outputs": [
    {
     "name": "stderr",
     "output_type": "stream",
     "text": [
      "Warning message:\n",
      "\"package 'pracma' was built under R version 3.4.4\"\n",
      "Attaching package: 'pracma'\n",
      "\n",
      "The following object is masked from 'package:polynom':\n",
      "\n",
      "    integral\n",
      "\n"
     ]
    }
   ],
   "source": [
    "library(pracma)"
   ]
  },
  {
   "cell_type": "code",
   "execution_count": 92,
   "metadata": {},
   "outputs": [
    {
     "data": {
      "text/html": [
       "<dl>\n",
       "\t<dt>$value</dt>\n",
       "\t\t<dd>-5.66666665673256</dd>\n",
       "\t<dt>$iter</dt>\n",
       "\t\t<dd>12</dd>\n",
       "\t<dt>$rel.err</dt>\n",
       "\t\t<dd>2.98023223876953e-08</dd>\n",
       "</dl>\n"
      ],
      "text/latex": [
       "\\begin{description}\n",
       "\\item[\\$value] -5.66666665673256\n",
       "\\item[\\$iter] 12\n",
       "\\item[\\$rel.err] 2.98023223876953e-08\n",
       "\\end{description}\n"
      ],
      "text/markdown": [
       "$value\n",
       ":   -5.66666665673256\n",
       "$iter\n",
       ":   12\n",
       "$rel.err\n",
       ":   2.98023223876953e-08\n",
       "\n",
       "\n"
      ],
      "text/plain": [
       "$value\n",
       "[1] -5.666667\n",
       "\n",
       "$iter\n",
       "[1] 12\n",
       "\n",
       "$rel.err\n",
       "[1] 2.980232e-08\n"
      ]
     },
     "metadata": {},
     "output_type": "display_data"
    }
   ],
   "source": [
    "#NOMOR 11\n",
    "fx1 <- function(x){\n",
    "    return (x^2 - 6)\n",
    "}\n",
    "trapzfun(fx1,0,1)"
   ]
  },
  {
   "cell_type": "code",
   "execution_count": 57,
   "metadata": {},
   "outputs": [
    {
     "data": {
      "text/html": [
       "<dl>\n",
       "\t<dt>$value</dt>\n",
       "\t\t<dd>3.08333335444331</dd>\n",
       "\t<dt>$iter</dt>\n",
       "\t\t<dd>13</dd>\n",
       "\t<dt>$rel.err</dt>\n",
       "\t\t<dd>6.33299350738525e-08</dd>\n",
       "</dl>\n"
      ],
      "text/latex": [
       "\\begin{description}\n",
       "\\item[\\$value] 3.08333335444331\n",
       "\\item[\\$iter] 13\n",
       "\\item[\\$rel.err] 6.33299350738525e-08\n",
       "\\end{description}\n"
      ],
      "text/markdown": [
       "$value\n",
       ":   3.08333335444331\n",
       "$iter\n",
       ":   13\n",
       "$rel.err\n",
       ":   6.33299350738525e-08\n",
       "\n",
       "\n"
      ],
      "text/plain": [
       "$value\n",
       "[1] 3.083333\n",
       "\n",
       "$iter\n",
       "[1] 13\n",
       "\n",
       "$rel.err\n",
       "[1] 6.332994e-08\n"
      ]
     },
     "metadata": {},
     "output_type": "display_data"
    }
   ],
   "source": [
    "#NOMOR 12\n",
    "fx2 <- function(x){\n",
    "    return (x^3 + 4*x^2 - 10)\n",
    "}\n",
    "trapzfun(fx2,1,2)"
   ]
  },
  {
   "cell_type": "code",
   "execution_count": 66,
   "metadata": {},
   "outputs": [
    {
     "data": {
      "text/html": [
       "0.335"
      ],
      "text/latex": [
       "0.335"
      ],
      "text/markdown": [
       "0.335"
      ],
      "text/plain": [
       "[1] 0.335"
      ]
     },
     "metadata": {},
     "output_type": "display_data"
    }
   ],
   "source": [
    "#NOMOR 14\n",
    "h <- 0.1\n",
    "x <- seq(0,1, by=h)\n",
    "f <- function(x){\n",
    "    return (x^2)\n",
    "}\n",
    "f0 <- f(x[1])\n",
    "fi <- sapply(x[2:10], f)\n",
    "fn <- f(x[length(x)])\n",
    "\n",
    "trap <- function(f0, fi, fn, h){\n",
    "    return (h/2 * (f0 + 2 * sum(fi) + fn))\n",
    "}\n",
    "\n",
    "trap(f0,fi,fn,h)"
   ]
  },
  {
   "cell_type": "code",
   "execution_count": 80,
   "metadata": {},
   "outputs": [
    {
     "data": {
      "text/html": [
       "0.34"
      ],
      "text/latex": [
       "0.34"
      ],
      "text/markdown": [
       "0.34"
      ],
      "text/plain": [
       "[1] 0.34"
      ]
     },
     "metadata": {},
     "output_type": "display_data"
    }
   ],
   "source": [
    "#NOMOR 15\n",
    "h <- 0.2\n",
    "x <- seq(0,1, by=h)\n",
    "f <- function(x){\n",
    "    return (x^2)\n",
    "}\n",
    "f0 <- f(x[1])\n",
    "fi <- sapply(x[2:5], f)\n",
    "fn <- f(x[length(x)])\n",
    "\n",
    "trap <- function(f0, fi, fn, h){\n",
    "    return (h/2 * (f0 + 2 * sum(fi) + fn))\n",
    "}\n",
    "\n",
    "trap(f0,fi,fn,h)"
   ]
  },
  {
   "cell_type": "code",
   "execution_count": null,
   "metadata": {},
   "outputs": [],
   "source": []
  }
 ],
 "metadata": {
  "kernelspec": {
   "display_name": "R",
   "language": "R",
   "name": "ir"
  },
  "language_info": {
   "codemirror_mode": "r",
   "file_extension": ".r",
   "mimetype": "text/x-r-source",
   "name": "R",
   "pygments_lexer": "r",
   "version": "3.4.3"
  }
 },
 "nbformat": 4,
 "nbformat_minor": 2
}
